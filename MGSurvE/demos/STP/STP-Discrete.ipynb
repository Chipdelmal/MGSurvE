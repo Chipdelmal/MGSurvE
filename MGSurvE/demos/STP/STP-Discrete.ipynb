{
 "cells": [
  {
   "cell_type": "markdown",
   "metadata": {},
   "source": [
    "# São Tomé"
   ]
  },
  {
   "cell_type": "markdown",
   "metadata": {},
   "source": [
    "In this application we will set to two fixed traps and import an externally-generated\n",
    "migration matrix. \n",
    "\n",
    "We will begin by loading all the required libraries and packages:"
   ]
  },
  {
   "cell_type": "code",
   "execution_count": null,
   "metadata": {},
   "outputs": [],
   "source": [
    "from os import path\n",
    "import numpy as np\n",
    "import pandas as pd\n",
    "import cartopy.crs as ccrs\n",
    "import matplotlib.pyplot as plt\n",
    "from sklearn.preprocessing import normalize\n",
    "import MGSurvE as srv\n",
    "import warnings\n",
    "warnings.filterwarnings(\"ignore\")\n"
   ]
  },
  {
   "cell_type": "markdown",
   "metadata": {},
   "source": [
    "## Landscape"
   ]
  },
  {
   "cell_type": "markdown",
   "metadata": {},
   "source": [
    "We will now setup some of the experiment's constants. In this case we will setup the experiment to 7 traps (`TRPS`) by default with the option to set two traps as fixed (`FXD_TRPS`) as `True`. These fixed traps will be located in two small landmasses at the north and south of the main São Tomé landscape. The experiment id `ID` is just a label for the output files, with the run id `RID` being used for iterations of the stochastic optimization process; and the `IX_SPLIT` used to separate to separate sites in São Tomé from the ones in the island of Príncipe. Finally, we will create a folder to export our results into."
   ]
  },
  {
   "cell_type": "code",
   "execution_count": null,
   "metadata": {},
   "outputs": [],
   "source": [
    "(TRPS_NUM, FXD_TRPS) = (12, True)\n",
    "# Experiment ID (RID) and stochastic iteration id (RID) -----------------------\n",
    "(ID, RID) = ('STP', 0)\n",
    "IX_SPLIT = 27\n",
    "# Output folder ---------------------------------------------------------------\n",
    "OUT_PTH = './sims_out/'\n",
    "srv.makeFolder(OUT_PTH)"
   ]
  },
  {
   "cell_type": "markdown",
   "metadata": {},
   "source": [
    "We need to read our points coordinates. These positions are stored in a CSV file as *longitude/latitude* format, so we will load them into a pandas dataframe and set them to the same point-type (`t`):"
   ]
  },
  {
   "cell_type": "code",
   "execution_count": null,
   "metadata": {},
   "outputs": [],
   "source": [
    "sites = pd.read_csv(path.join('./GEO', 'STP_LatLonN.csv'))\n",
    "sites['t'] = [0]*sites.shape[0]"
   ]
  },
  {
   "cell_type": "markdown",
   "metadata": {},
   "source": [
    "Our original CSV file contains the information for both São Tomé and Príncipe, but in this example we will be focusing on the main São Tomé land, so we will split the dataframe to get the positions we are interested on (`SAO_TOME_LL`). At the same time, we will get the landscape bounding box (`SAO_bbox`), center (`SAO_cntr`), and the ID of the nodes where we want our fixed traps to be in (`SAO_FIXED`):"
   ]
  },
  {
   "cell_type": "code",
   "execution_count": null,
   "metadata": {},
   "outputs": [],
   "source": [
    "# Get longitude-latitudes for main island -------------------------------------\n",
    "SAO_TOME_LL = sites.iloc[IX_SPLIT:]\n",
    "# Get bounding box ------------------------------------------------------------\n",
    "SAO_bbox = (\n",
    "    (min(SAO_TOME_LL['lon']), max(SAO_TOME_LL['lon'])),\n",
    "    (min(SAO_TOME_LL['lat']), max(SAO_TOME_LL['lat']))\n",
    ")\n",
    "# Get centroid ----------------------------------------------------------------\n",
    "SAO_cntr = [i[0]+(i[1]-i[0])/2 for i in SAO_bbox]\n",
    "SAO_LIMITS = ((6.41, 6.79), (-0.0475, .45))\n",
    "# Get sites IDs for fixed traps -----------------------------------------------\n",
    "SAO_FIXED = [51-IX_SPLIT, 239-IX_SPLIT]\n",
    "FXD_NUM = len(SAO_FIXED)"
   ]
  },
  {
   "cell_type": "markdown",
   "metadata": {},
   "source": [
    "We now import the migration matrix and split it to get the São Tomé subset of transitions (`SAO_TOME_MIG`):"
   ]
  },
  {
   "cell_type": "code",
   "execution_count": null,
   "metadata": {},
   "outputs": [],
   "source": [
    "migration = np.genfromtxt(\n",
    "    path.join('./GEO', 'STP_MigrationN.csv'), delimiter=','\n",
    ")\n",
    "# Spliting up Sao Tome and making sure rows are normalized --------------------\n",
    "msplit = migration[IX_SPLIT:,IX_SPLIT:]\n",
    "SAO_TOME_MIG = normalize(msplit, axis=1, norm='l1')"
   ]
  },
  {
   "cell_type": "markdown",
   "metadata": {},
   "source": [
    "We now setup the traps. In this case we will set all the traps to the same type `0`. Generally speaking, the initial position in terms of longitud and latitude is not important in this case as we will be doing discrete optimization, but the current version of MGSurvE still needs some positions vector to be provided (will likely get deprecated in future releases). Something that is important, however, is that we setup our fixed traps in the right node id for them to be located in the small masses of land at the north and south of the island (`SAO_FIXED`), so we setup a vector of a number of traps that can be placed at whichever node we want (`0`, in this case), and two traps that are located in specific nodes (`SAO_FIXED` which are `[24, 212]`)."
   ]
  },
  {
   "cell_type": "code",
   "execution_count": null,
   "metadata": {},
   "outputs": [],
   "source": [
    "(initTyp, initFxd) = ([0]*TRPS_NUM, [0]*TRPS_NUM)\n",
    "if FXD_TRPS:\n",
    "    initFxd = ([0]*(TRPS_NUM-FXD_NUM) + [1]*FXD_NUM)\n",
    "# Initialize the position of traps (not strictly needed) ----------------------\n",
    "(initLon, initLat) = ([[SAO_cntr[0]]*TRPS_NUM, [SAO_cntr[1]]*TRPS_NUM])\n",
    "# Initialize traps to nodes IDs -----------------------------------------------\n",
    "sid = [0]*(TRPS_NUM-FXD_NUM) + SAO_FIXED "
   ]
  },
  {
   "cell_type": "markdown",
   "metadata": {},
   "source": [
    "With this in place, we can setup our trap kernel and our traps dataframe:"
   ]
  },
  {
   "cell_type": "code",
   "execution_count": null,
   "metadata": {},
   "outputs": [],
   "source": [
    "tKer = {0: {'kernel': srv.exponentialDecay, 'params': {'A': 0.5, 'b': 0.041674}}}\n",
    "# Initialize traps ------------------------------------------------------------\n",
    "traps = pd.DataFrame({\n",
    "    'sid': sid, 'lon': initLon, 'lat': initLat, \n",
    "    't': initTyp, 'f': initFxd\n",
    "})"
   ]
  },
  {
   "cell_type": "markdown",
   "metadata": {},
   "source": [
    "We can now initialize our landscape with the info we gathered from our previous steps:"
   ]
  },
  {
   "cell_type": "code",
   "execution_count": null,
   "metadata": {},
   "outputs": [],
   "source": [
    "lnd = srv.Landscape(\n",
    "    SAO_TOME_LL, migrationMatrix=SAO_TOME_MIG,\n",
    "    traps=traps, trapsKernels=tKer, \n",
    "    landLimits=SAO_LIMITS\n",
    ")\n",
    "bbox = lnd.getBoundingBox()\n",
    "trpMsk = srv.genFixedTrapsMask(lnd.trapsFixed)"
   ]
  },
  {
   "cell_type": "markdown",
   "metadata": {},
   "source": [
    "And let's plot our traps and landscape now!"
   ]
  },
  {
   "cell_type": "code",
   "execution_count": null,
   "metadata": {},
   "outputs": [],
   "source": [
    "# Plot Traps Kernels ----------------------------------------------------------\n",
    "(fig, ax) = plt.subplots(1, 1, figsize=(15, 5), sharey=False)\n",
    "(fig, ax) = srv.plotTrapsKernels(fig, ax, lnd, distRange=(0, 100), aspect=.175)\n",
    "ax.set_title(\"Traps Kernel\")\n",
    "ax.set_xlabel(\"Distance (m)\")\n",
    "ax.set_ylabel(\"Trapping Probability\")\n",
    "fig.savefig(\n",
    "    path.join(OUT_PTH, '{}D-{:02d}-{:02d}_KER.png'.format(ID, TRPS_NUM, RID)), \n",
    "    facecolor='w', bbox_inches='tight', pad_inches=0.1, dpi=300\n",
    ")\n",
    "# Plot Landscape --------------------------------------------------------------\n",
    "(fig, ax) = (\n",
    "    plt.figure(figsize=(15, 15)),\n",
    "    plt.axes(projection=ccrs.PlateCarree())\n",
    ")\n",
    "lnd.plotSites(fig, ax, size=250)\n",
    "lnd.plotLandBoundary(fig, ax)\n",
    "srv.plotClean(fig, ax, bbox=lnd.landLimits)\n",
    "fig.savefig(\n",
    "    path.join(OUT_PTH, '{}_{:02d}_CLN.png'.format(ID, TRPS_NUM)), \n",
    "    facecolor='w', bbox_inches='tight', pad_inches=0.1, dpi=300\n",
    ")"
   ]
  },
  {
   "cell_type": "markdown",
   "metadata": {},
   "source": [
    "## Optimization"
   ]
  },
  {
   "cell_type": "markdown",
   "metadata": {},
   "source": [
    "We now turn to the optimization section of our code. For this demo, let's setup a low number of generations so that it doesn't take too long to run (around 50 or 100), with the summary statistic for our fitness function as the mean of the expected times for mosquitoes to fall into traps (`np.mean`). We will use some mutation, crossover, and selection parameters that we have found useful by trial and error. Some general thoughts on the selection of these parameters, though:\n",
    "* We want the population size to grow proportionally with the number of variables to optimize, but keeping it as low as possible so that it's not very computationally intensive, and allows for exploration.\n",
    "* The mutation probability of each potential solution (`mutpb`) should be high enough to allow for exploration but not so large that the optimization fails to converge (same goes for the probability of mutation of each individual allele in a chromosome `indpb`).\n",
    "* The crossover probability between potential solutions (`cxpb`) allows for the exchange of alleles between good solutions in hopes that the mix results in a better fitness value, so we should have this value as high as we want but not so much that we are sampling too often."
   ]
  },
  {
   "cell_type": "code",
   "execution_count": null,
   "metadata": {},
   "outputs": [],
   "source": [
    "(GENS, GA_SUMSTAT, VERBOSE) = (100, np.mean, True)\n",
    "# Parameters for the genetic algorithm internal operation ---------------------\n",
    "POP_SIZE = int(10*(lnd.trapsNumber*1.5))\n",
    "(MAT, MUT, SEL) = (\n",
    "    {'cxpb':  0.300, 'indpb': 0.35}, \n",
    "    {'mutpb': 0.375, 'indpb': 0.50},\n",
    "    {'tSize': 3}\n",
    ")"
   ]
  },
  {
   "cell_type": "markdown",
   "metadata": {},
   "source": [
    "With that, we can now instantiate and run our GA algorithm! Keep in mind that it will take some time to finish, but look at the `min` column, which should be slowly getting smaller with each iteration (generation) of the algorithm:"
   ]
  },
  {
   "cell_type": "code",
   "execution_count": null,
   "metadata": {},
   "outputs": [],
   "source": [
    "outer = GA_SUMSTAT\n",
    "(lnd, logbook) = srv.optimizeDiscreteTrapsGA(\n",
    "    lnd, pop_size=POP_SIZE, generations=GENS, verbose=VERBOSE,\n",
    "    mating_params=MAT, mutation_params=MUT, selection_params=SEL,\n",
    "    fitFuns={'inner': np.sum, 'outer': outer}\n",
    ")"
   ]
  },
  {
   "cell_type": "markdown",
   "metadata": {},
   "source": [
    "And let's export our results to disk for future use:"
   ]
  },
  {
   "cell_type": "code",
   "execution_count": null,
   "metadata": {},
   "outputs": [],
   "source": [
    "srv.exportLog(logbook, OUT_PTH, '{}D-{:02d}-{:02d}_LOG'.format(ID, TRPS_NUM, RID))\n",
    "srv.dumpLandscape(lnd, OUT_PTH, '{}D-{:02d}-{:02d}_TRP'.format(ID, TRPS_NUM, RID), fExt='pkl')"
   ]
  },
  {
   "cell_type": "markdown",
   "metadata": {},
   "source": [
    "## Analysis"
   ]
  },
  {
   "cell_type": "markdown",
   "metadata": {},
   "source": [
    "For this demonstration, we will plot the evolution of our genetic algorithm in finding the most optimum solution. The region shaded in blue spans the best solution (bottom) to the worst one (top), with the mean being plotted in white somewhere between these values. For a GA it's important that the best solution doesn't bounce around too much and that it keeps improving as generations go on, but it's also important to have some variability so that exploration is taking place, so a reasonably wide envelope is generally a good sign for our applications:"
   ]
  },
  {
   "cell_type": "code",
   "execution_count": null,
   "metadata": {},
   "outputs": [],
   "source": [
    "log = pd.DataFrame(logbook)\n",
    "log.rename(columns={'median': 'avg'}, inplace=True)\n",
    "(fig, ax) = plt.subplots(1, 1, figsize=(15, 5), sharey=False)\n",
    "ax.set_title(\"GA Optimization\")\n",
    "ax.set_xlabel(\"Fitness\")\n",
    "ax.set_ylabel(\"Generations\")\n",
    "srv.plotGAEvolution(\n",
    "    fig, ax, log,\n",
    "    colors={'mean': '#ffffff', 'envelope': '#1565c0'},\n",
    "    alphas={'mean': .75, 'envelope': 0.5},\n",
    "    aspect=1/2.5\n",
    ")\n",
    "fig.savefig(\n",
    "    path.join(OUT_PTH, '{}D-{:02d}-{:02d}_GA.png'.format(ID, TRPS_NUM, RID)),  \n",
    "    facecolor='w', bbox_inches='tight', pad_inches=0.1, dpi=300\n",
    ")"
   ]
  },
  {
   "cell_type": "markdown",
   "metadata": {},
   "source": [
    "Finally, let's plot our optimized landscape!"
   ]
  },
  {
   "cell_type": "code",
   "execution_count": null,
   "metadata": {},
   "outputs": [],
   "source": [
    "lnd = srv.loadLandscape(\n",
    "    OUT_PTH, '{}D-{:02d}-{:02d}_TRP'.format(ID, TRPS_NUM, RID), \n",
    "    fExt='pkl'\n",
    ")\n",
    "(fig, ax) = (\n",
    "    plt.figure(figsize=(15, 15)),\n",
    "    plt.axes(projection=ccrs.PlateCarree())\n",
    ")\n",
    "lnd.plotSites(fig, ax, size=250)\n",
    "lnd.plotTraps(\n",
    "    fig, ax, \n",
    "    zorders=(30, 25), transparencyHex='55', \n",
    "    proj=ccrs.PlateCarree()\n",
    ")\n",
    "srv.plotClean(fig, ax, bbox=lnd.landLimits)\n",
    "lnd.plotLandBoundary(fig, ax)\n",
    "srv.plotClean(fig, ax, bbox=lnd.landLimits)\n",
    "fig.savefig(\n",
    "    path.join(OUT_PTH, '{}D-{:02d}-{:02d}_TRP.png'.format(ID, TRPS_NUM, RID)), \n",
    "    facecolor='w', bbox_inches='tight', pad_inches=0.1, dpi=400\n",
    ")\n"
   ]
  },
  {
   "cell_type": "code",
   "execution_count": null,
   "metadata": {},
   "outputs": [],
   "source": []
  }
 ],
 "metadata": {
  "kernelspec": {
   "display_name": "MGSurvE",
   "language": "python",
   "name": "python3"
  },
  "language_info": {
   "codemirror_mode": {
    "name": "ipython",
    "version": 3
   },
   "file_extension": ".py",
   "mimetype": "text/x-python",
   "name": "python",
   "nbconvert_exporter": "python",
   "pygments_lexer": "ipython3",
   "version": "3.10.11"
  },
  "orig_nbformat": 4
 },
 "nbformat": 4,
 "nbformat_minor": 2
}
